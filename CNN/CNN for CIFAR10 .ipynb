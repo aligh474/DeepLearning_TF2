{
 "cells": [
  {
   "cell_type": "markdown",
   "metadata": {},
   "source": [
    "## import data"
   ]
  },
  {
   "cell_type": "code",
   "execution_count": 1,
   "metadata": {},
   "outputs": [],
   "source": [
    "def unpickle(file):\n",
    "    import pickle\n",
    "    with open(file, 'rb') as fo:\n",
    "        dict = pickle.load(fo, encoding='bytes')\n",
    "    return dict\n"
   ]
  },
  {
   "cell_type": "code",
   "execution_count": 2,
   "metadata": {},
   "outputs": [],
   "source": [
    "import numpy as np\n",
    "cifar_train_data = None\n",
    "\n",
    "cifar_train_labels = []\n",
    "import os\n",
    "current_dir = os.getcwd()\n",
    "data_dir = current_dir+\"/data/CIFAR10/\"\n",
    "for i in range(1, 6):\n",
    "    cifar_train_data_dict = unpickle(data_dir + \"/data_batch_{}\".format(i))\n",
    "    if i == 1:\n",
    "        cifar_train_data = cifar_train_data_dict[b'data']\n",
    "    else:\n",
    "        cifar_train_data = np.vstack((cifar_train_data, cifar_train_data_dict[b'data']))\n",
    "\n",
    "    cifar_train_labels += cifar_train_data_dict[b'labels']\n",
    "\n",
    "cifar_train_data = cifar_train_data.reshape((len(cifar_train_data), 32, 32, 3))\n",
    "cifar_train_labels = np.array(cifar_train_labels)\n",
    "\n",
    "\n",
    "cifar_test_data_dict = unpickle(data_dir + \"/test_batch\")\n",
    "cifar_test_data = cifar_test_data_dict[b'data']\n",
    "cifar_test_labels = np.array(cifar_test_data_dict[b'labels'])\n",
    "\n",
    "cifar_test_data = cifar_test_data.reshape((len(cifar_test_data), 32, 32, 3))"
   ]
  },
  {
   "cell_type": "code",
   "execution_count": 3,
   "metadata": {},
   "outputs": [
    {
     "data": {
      "text/plain": [
       "(50000, 32, 32, 3)"
      ]
     },
     "execution_count": 3,
     "metadata": {},
     "output_type": "execute_result"
    }
   ],
   "source": [
    "cifar_train_data.shape"
   ]
  },
  {
   "cell_type": "code",
   "execution_count": 4,
   "metadata": {},
   "outputs": [
    {
     "data": {
      "text/plain": [
       "(50000,)"
      ]
     },
     "execution_count": 4,
     "metadata": {},
     "output_type": "execute_result"
    }
   ],
   "source": [
    "cifar_train_labels.shape"
   ]
  },
  {
   "cell_type": "code",
   "execution_count": 5,
   "metadata": {},
   "outputs": [],
   "source": [
    "import tensorflow as tf\n",
    "import matplotlib.pyplot as plt\n",
    "from tensorflow.keras.layers import Input,Conv2D,Dense,Flatten,Dropout,GlobalMaxPooling2D,MaxPooling2D,BatchNormalization\n",
    "from tensorflow.keras.models import Model"
   ]
  },
  {
   "cell_type": "code",
   "execution_count": 6,
   "metadata": {},
   "outputs": [],
   "source": [
    "cifar_train_data,cifar_test_data = cifar_train_data/255.0 ,cifar_test_data/255.0"
   ]
  },
  {
   "cell_type": "markdown",
   "metadata": {},
   "source": [
    "## build model"
   ]
  },
  {
   "cell_type": "code",
   "execution_count": 7,
   "metadata": {},
   "outputs": [],
   "source": [
    "i = Input(shape=cifar_train_data[0].shape)\n",
    "x = Conv2D(32, (3,3), activation='relu', padding='same')(i)\n",
    "x = BatchNormalization()(x)\n",
    "x = Conv2D(32, (3,3), activation='relu', padding='same')(x)\n",
    "x = BatchNormalization()(x)\n",
    "x = MaxPooling2D((2,2))(x)\n",
    "\n",
    "x = Conv2D(64, (3,3), activation='relu', padding='same')(x)\n",
    "x = BatchNormalization()(x)\n",
    "x = Conv2D(64, (3,3), activation='relu', padding='same')(x)\n",
    "x = BatchNormalization()(x)\n",
    "x = MaxPooling2D((2,2))(x)\n",
    "\n",
    "x = Conv2D(128, (3,3), activation='relu', padding='same')(x)\n",
    "x = BatchNormalization()(x)\n",
    "x = Conv2D(128, (3,3), activation='relu', padding='same')(x)\n",
    "x = BatchNormalization()(x)\n",
    "x = MaxPooling2D((2,2))(x)\n",
    "\n",
    "x = Flatten()(x)\n",
    "x = Dropout(0.2)(x)\n",
    "x = Dense(1024,activation='relu')(x)\n",
    "x = Dropout(0.2)(x)\n",
    "x = Dense(10,activation='softmax')(x)\n",
    "\n",
    "model = Model(i,x)"
   ]
  },
  {
   "cell_type": "code",
   "execution_count": 8,
   "metadata": {},
   "outputs": [],
   "source": [
    "model.compile(optimizer='adam',loss='sparse_categorical_crossentropy',metrics=['accuracy'])"
   ]
  },
  {
   "cell_type": "code",
   "execution_count": 12,
   "metadata": {},
   "outputs": [
    {
     "name": "stdout",
     "output_type": "stream",
     "text": [
      "Epoch 1/50\n",
      "1563/1563 [==============================] - 8s 5ms/step - loss: 1.5998 - accuracy: 0.4434\n",
      "Epoch 2/50\n",
      "1563/1563 [==============================] - 8s 5ms/step - loss: 1.2272 - accuracy: 0.5682\n",
      "Epoch 3/50\n",
      "1563/1563 [==============================] - 9s 6ms/step - loss: 1.0748 - accuracy: 0.6243\n",
      "Epoch 4/50\n",
      "1563/1563 [==============================] - 9s 6ms/step - loss: 0.9563 - accuracy: 0.6662\n",
      "Epoch 5/50\n",
      "1563/1563 [==============================] - 8s 5ms/step - loss: 0.8687 - accuracy: 0.6930\n",
      "Epoch 6/50\n",
      "1563/1563 [==============================] - 7s 4ms/step - loss: 0.7698 - accuracy: 0.7286\n",
      "Epoch 7/50\n",
      "1563/1563 [==============================] - 7s 5ms/step - loss: 0.6907 - accuracy: 0.7585\n",
      "Epoch 8/50\n",
      "1563/1563 [==============================] - 7s 5ms/step - loss: 0.6102 - accuracy: 0.7830\n",
      "Epoch 9/50\n",
      "1563/1563 [==============================] - 7s 4ms/step - loss: 0.5339 - accuracy: 0.8101\n",
      "Epoch 10/50\n",
      "1563/1563 [==============================] - 6s 4ms/step - loss: 0.4684 - accuracy: 0.8345\n",
      "Epoch 11/50\n",
      "1563/1563 [==============================] - 7s 4ms/step - loss: 0.4202 - accuracy: 0.8511\n",
      "Epoch 12/50\n",
      "1563/1563 [==============================] - 7s 4ms/step - loss: 0.3723 - accuracy: 0.8695\n",
      "Epoch 13/50\n",
      "1563/1563 [==============================] - 7s 4ms/step - loss: 0.3294 - accuracy: 0.8841\n",
      "Epoch 14/50\n",
      "1563/1563 [==============================] - 6s 4ms/step - loss: 0.3024 - accuracy: 0.8939\n",
      "Epoch 15/50\n",
      "1563/1563 [==============================] - 6s 4ms/step - loss: 0.2716 - accuracy: 0.9056\n",
      "Epoch 16/50\n",
      "1563/1563 [==============================] - 6s 4ms/step - loss: 0.2493 - accuracy: 0.9132\n",
      "Epoch 17/50\n",
      "1563/1563 [==============================] - 7s 4ms/step - loss: 0.2303 - accuracy: 0.9192\n",
      "Epoch 18/50\n",
      "1563/1563 [==============================] - 6s 4ms/step - loss: 0.2190 - accuracy: 0.9246\n",
      "Epoch 19/50\n",
      "1563/1563 [==============================] - 6s 4ms/step - loss: 0.2071 - accuracy: 0.9289\n",
      "Epoch 20/50\n",
      "1563/1563 [==============================] - 6s 4ms/step - loss: 0.1939 - accuracy: 0.9337\n",
      "Epoch 21/50\n",
      "1563/1563 [==============================] - 6s 4ms/step - loss: 0.1847 - accuracy: 0.9371\n",
      "Epoch 22/50\n",
      "1563/1563 [==============================] - 6s 4ms/step - loss: 0.1756 - accuracy: 0.9395\n",
      "Epoch 23/50\n",
      "1563/1563 [==============================] - 6s 4ms/step - loss: 0.1657 - accuracy: 0.9432\n",
      "Epoch 24/50\n",
      "1563/1563 [==============================] - 6s 4ms/step - loss: 0.1612 - accuracy: 0.9454\n",
      "Epoch 25/50\n",
      "1563/1563 [==============================] - 5s 3ms/step - loss: 0.1564 - accuracy: 0.9465\n",
      "Epoch 26/50\n",
      "1563/1563 [==============================] - 6s 4ms/step - loss: 0.1450 - accuracy: 0.9520\n",
      "Epoch 27/50\n",
      "1563/1563 [==============================] - 5s 3ms/step - loss: 0.1410 - accuracy: 0.9521\n",
      "Epoch 28/50\n",
      "1563/1563 [==============================] - 6s 4ms/step - loss: 0.1365 - accuracy: 0.9544\n",
      "Epoch 29/50\n",
      "1563/1563 [==============================] - 6s 4ms/step - loss: 0.1370 - accuracy: 0.9550\n",
      "Epoch 30/50\n",
      "1563/1563 [==============================] - 5s 3ms/step - loss: 0.1189 - accuracy: 0.9602\n",
      "Epoch 31/50\n",
      "1563/1563 [==============================] - 6s 4ms/step - loss: 0.1270 - accuracy: 0.9587\n",
      "Epoch 32/50\n",
      "1563/1563 [==============================] - 5s 3ms/step - loss: 0.1136 - accuracy: 0.9620\n",
      "Epoch 33/50\n",
      "1563/1563 [==============================] - 6s 4ms/step - loss: 0.1126 - accuracy: 0.9630\n",
      "Epoch 34/50\n",
      "1563/1563 [==============================] - 6s 4ms/step - loss: 0.1164 - accuracy: 0.9622\n",
      "Epoch 35/50\n",
      "1563/1563 [==============================] - 6s 4ms/step - loss: 0.1123 - accuracy: 0.9634\n",
      "Epoch 36/50\n",
      "1563/1563 [==============================] - 5s 3ms/step - loss: 0.1004 - accuracy: 0.9658\n",
      "Epoch 37/50\n",
      "1563/1563 [==============================] - 6s 4ms/step - loss: 0.1055 - accuracy: 0.9645\n",
      "Epoch 38/50\n",
      "1563/1563 [==============================] - 6s 4ms/step - loss: 0.1015 - accuracy: 0.9667\n",
      "Epoch 39/50\n",
      "1563/1563 [==============================] - 6s 4ms/step - loss: 0.0996 - accuracy: 0.9677\n",
      "Epoch 40/50\n",
      "1563/1563 [==============================] - 6s 4ms/step - loss: 0.0982 - accuracy: 0.9675\n",
      "Epoch 41/50\n",
      "1563/1563 [==============================] - 5s 3ms/step - loss: 0.0941 - accuracy: 0.9687\n",
      "Epoch 42/50\n",
      "1563/1563 [==============================] - 5s 3ms/step - loss: 0.0923 - accuracy: 0.9700\n",
      "Epoch 43/50\n",
      "1563/1563 [==============================] - 6s 4ms/step - loss: 0.0885 - accuracy: 0.9713\n",
      "Epoch 44/50\n",
      "1563/1563 [==============================] - 6s 4ms/step - loss: 0.0874 - accuracy: 0.9713\n",
      "Epoch 45/50\n",
      "1563/1563 [==============================] - 5s 3ms/step - loss: 0.0820 - accuracy: 0.9726\n",
      "Epoch 46/50\n",
      "1563/1563 [==============================] - 5s 3ms/step - loss: 0.0903 - accuracy: 0.9713\n",
      "Epoch 47/50\n",
      "1563/1563 [==============================] - 5s 3ms/step - loss: 0.0830 - accuracy: 0.9727\n",
      "Epoch 48/50\n",
      "1563/1563 [==============================] - 6s 4ms/step - loss: 0.0832 - accuracy: 0.9722\n",
      "Epoch 49/50\n",
      "1563/1563 [==============================] - 5s 3ms/step - loss: 0.0805 - accuracy: 0.9737\n",
      "Epoch 50/50\n",
      "1563/1563 [==============================] - 5s 3ms/step - loss: 0.0768 - accuracy: 0.9751\n"
     ]
    }
   ],
   "source": [
    "hist = model.fit(cifar_train_data,cifar_train_labels,epochs=50)"
   ]
  },
  {
   "cell_type": "markdown",
   "metadata": {},
   "source": [
    "## using data augmentation"
   ]
  },
  {
   "cell_type": "code",
   "execution_count": 9,
   "metadata": {},
   "outputs": [
    {
     "name": "stdout",
     "output_type": "stream",
     "text": [
      "WARNING:tensorflow:From <ipython-input-9-a5c5803fc83a>:5: Model.fit_generator (from tensorflow.python.keras.engine.training) is deprecated and will be removed in a future version.\n",
      "Instructions for updating:\n",
      "Please use Model.fit, which supports generators.\n",
      "Epoch 1/50\n",
      "1562/1562 [==============================] - 20s 13ms/step - loss: 1.8484 - accuracy: 0.3428\n",
      "Epoch 2/50\n",
      "1562/1562 [==============================] - 20s 13ms/step - loss: 1.5535 - accuracy: 0.4430\n",
      "Epoch 3/50\n",
      "1562/1562 [==============================] - 20s 13ms/step - loss: 1.4194 - accuracy: 0.4954\n",
      "Epoch 4/50\n",
      "1562/1562 [==============================] - 20s 13ms/step - loss: 1.3179 - accuracy: 0.5346\n",
      "Epoch 5/50\n",
      "1562/1562 [==============================] - 20s 13ms/step - loss: 1.2371 - accuracy: 0.5678\n",
      "Epoch 6/50\n",
      "1562/1562 [==============================] - 20s 13ms/step - loss: 1.1768 - accuracy: 0.5887\n",
      "Epoch 7/50\n",
      "1562/1562 [==============================] - 20s 13ms/step - loss: 1.1255 - accuracy: 0.6073\n",
      "Epoch 8/50\n",
      "1562/1562 [==============================] - 20s 13ms/step - loss: 1.0838 - accuracy: 0.6202\n",
      "Epoch 9/50\n",
      "1562/1562 [==============================] - 20s 13ms/step - loss: 1.0374 - accuracy: 0.6390\n",
      "Epoch 10/50\n",
      "1562/1562 [==============================] - 20s 13ms/step - loss: 1.0074 - accuracy: 0.6482\n",
      "Epoch 11/50\n",
      "1562/1562 [==============================] - 20s 13ms/step - loss: 0.9697 - accuracy: 0.6612\n",
      "Epoch 12/50\n",
      "1562/1562 [==============================] - 20s 13ms/step - loss: 0.9462 - accuracy: 0.6687\n",
      "Epoch 13/50\n",
      "1562/1562 [==============================] - 20s 13ms/step - loss: 0.9238 - accuracy: 0.6783\n",
      "Epoch 14/50\n",
      "1562/1562 [==============================] - 20s 13ms/step - loss: 0.9049 - accuracy: 0.68380s - loss: 0.9\n",
      "Epoch 15/50\n",
      "1562/1562 [==============================] - 20s 13ms/step - loss: 0.8822 - accuracy: 0.6912\n",
      "Epoch 16/50\n",
      "1562/1562 [==============================] - 20s 13ms/step - loss: 0.8727 - accuracy: 0.6963\n",
      "Epoch 17/50\n",
      "1562/1562 [==============================] - 20s 13ms/step - loss: 0.8496 - accuracy: 0.7047\n",
      "Epoch 18/50\n",
      "1562/1562 [==============================] - 20s 13ms/step - loss: 0.8306 - accuracy: 0.7093\n",
      "Epoch 19/50\n",
      "1562/1562 [==============================] - 20s 13ms/step - loss: 0.8257 - accuracy: 0.7108\n",
      "Epoch 20/50\n",
      "1562/1562 [==============================] - 20s 13ms/step - loss: 0.8090 - accuracy: 0.7141\n",
      "Epoch 21/50\n",
      "1562/1562 [==============================] - 20s 13ms/step - loss: 0.7957 - accuracy: 0.7227\n",
      "Epoch 22/50\n",
      "1562/1562 [==============================] - 20s 13ms/step - loss: 0.7842 - accuracy: 0.7240\n",
      "Epoch 23/50\n",
      "1562/1562 [==============================] - 20s 13ms/step - loss: 0.7781 - accuracy: 0.7251\n",
      "Epoch 24/50\n",
      "1562/1562 [==============================] - 20s 13ms/step - loss: 0.7615 - accuracy: 0.7333\n",
      "Epoch 25/50\n",
      "1562/1562 [==============================] - 20s 13ms/step - loss: 0.7523 - accuracy: 0.7352\n",
      "Epoch 26/50\n",
      "1562/1562 [==============================] - 20s 13ms/step - loss: 0.7528 - accuracy: 0.7361\n",
      "Epoch 27/50\n",
      "1562/1562 [==============================] - 20s 13ms/step - loss: 0.7393 - accuracy: 0.7390\n",
      "Epoch 28/50\n",
      "1562/1562 [==============================] - 20s 13ms/step - loss: 0.7319 - accuracy: 0.7423\n",
      "Epoch 29/50\n",
      "1562/1562 [==============================] - 20s 13ms/step - loss: 0.7252 - accuracy: 0.7443\n",
      "Epoch 30/50\n",
      "1562/1562 [==============================] - 20s 13ms/step - loss: 0.7147 - accuracy: 0.7493\n",
      "Epoch 31/50\n",
      "1562/1562 [==============================] - 20s 13ms/step - loss: 0.7073 - accuracy: 0.7519\n",
      "Epoch 32/50\n",
      "1562/1562 [==============================] - 20s 13ms/step - loss: 0.7013 - accuracy: 0.7537\n",
      "Epoch 33/50\n",
      "1562/1562 [==============================] - 20s 13ms/step - loss: 0.6931 - accuracy: 0.7587\n",
      "Epoch 34/50\n",
      "1562/1562 [==============================] - 20s 13ms/step - loss: 0.6951 - accuracy: 0.7577\n",
      "Epoch 35/50\n",
      "1562/1562 [==============================] - 20s 13ms/step - loss: 0.6908 - accuracy: 0.7554\n",
      "Epoch 36/50\n",
      "1562/1562 [==============================] - 20s 13ms/step - loss: 0.6776 - accuracy: 0.7602\n",
      "Epoch 37/50\n",
      "1562/1562 [==============================] - 20s 13ms/step - loss: 0.6706 - accuracy: 0.7636\n",
      "Epoch 38/50\n",
      "1562/1562 [==============================] - 20s 13ms/step - loss: 0.6694 - accuracy: 0.7632\n",
      "Epoch 39/50\n",
      "1562/1562 [==============================] - 20s 13ms/step - loss: 0.6623 - accuracy: 0.7654\n",
      "Epoch 40/50\n",
      "1562/1562 [==============================] - 20s 13ms/step - loss: 0.6561 - accuracy: 0.7675\n",
      "Epoch 41/50\n",
      "1562/1562 [==============================] - 20s 13ms/step - loss: 0.6476 - accuracy: 0.7722\n",
      "Epoch 42/50\n",
      "1562/1562 [==============================] - 20s 13ms/step - loss: 0.6413 - accuracy: 0.7729\n",
      "Epoch 43/50\n",
      "1562/1562 [==============================] - 20s 13ms/step - loss: 0.6380 - accuracy: 0.7750\n",
      "Epoch 44/50\n",
      "1562/1562 [==============================] - 20s 13ms/step - loss: 0.6350 - accuracy: 0.7758\n",
      "Epoch 45/50\n",
      "1562/1562 [==============================] - 20s 13ms/step - loss: 0.6265 - accuracy: 0.7793\n",
      "Epoch 46/50\n",
      "1562/1562 [==============================] - 20s 13ms/step - loss: 0.6280 - accuracy: 0.7790\n",
      "Epoch 47/50\n",
      "1562/1562 [==============================] - 20s 13ms/step - loss: 0.6245 - accuracy: 0.7786\n",
      "Epoch 48/50\n",
      "1562/1562 [==============================] - 20s 13ms/step - loss: 0.6131 - accuracy: 0.7842\n",
      "Epoch 49/50\n",
      "1562/1562 [==============================] - 20s 13ms/step - loss: 0.6161 - accuracy: 0.7848\n",
      "Epoch 50/50\n",
      "1562/1562 [==============================] - 20s 13ms/step - loss: 0.6086 - accuracy: 0.7829\n"
     ]
    }
   ],
   "source": [
    "batch_size = 32\n",
    "data_generator = tf.keras.preprocessing.image.ImageDataGenerator(width_shift_range=0.1,height_shift_range=0.1,horizontal_flip=True)\n",
    "train_generator = data_generator.flow(cifar_train_data,cifar_train_labels,batch_size)\n",
    "steps_per_epoch = cifar_train_data.shape[0]//batch_size\n",
    "hist = model.fit_generator(train_generator,steps_per_epoch = steps_per_epoch, epochs = 50)"
   ]
  },
  {
   "cell_type": "code",
   "execution_count": 10,
   "metadata": {},
   "outputs": [
    {
     "name": "stdout",
     "output_type": "stream",
     "text": [
      "Collecting scikit-learn\n",
      "  Downloading scikit_learn-0.23.2-cp36-cp36m-manylinux1_x86_64.whl (6.8 MB)\n",
      "\u001b[K     |████████████████████████████████| 6.8 MB 1.3 MB/s eta 0:00:01\n",
      "\u001b[?25hRequirement already satisfied: scipy>=0.19.1 in /usr/local/lib/python3.6/dist-packages (from scikit-learn) (1.4.1)\n",
      "Requirement already satisfied: numpy>=1.13.3 in /usr/local/lib/python3.6/dist-packages (from scikit-learn) (1.18.4)\n",
      "Collecting joblib>=0.11\n",
      "  Downloading joblib-0.17.0-py3-none-any.whl (301 kB)\n",
      "\u001b[K     |████████████████████████████████| 301 kB 1.2 MB/s eta 0:00:01\n",
      "\u001b[?25hCollecting threadpoolctl>=2.0.0\n",
      "  Downloading threadpoolctl-2.1.0-py3-none-any.whl (12 kB)\n",
      "Installing collected packages: joblib, threadpoolctl, scikit-learn\n",
      "Successfully installed joblib-0.17.0 scikit-learn-0.23.2 threadpoolctl-2.1.0\n",
      "\u001b[33mWARNING: You are using pip version 20.1; however, version 20.2.4 is available.\n",
      "You should consider upgrading via the '/usr/bin/python3 -m pip install --upgrade pip' command.\u001b[0m\n",
      "confusion matrix without normalization\n",
      "[[870  20   5   4  15   4  10   4  36  32]\n",
      " [ 16 864   3   3   7   2   9   2  24  70]\n",
      " [151   4 527  42 114  24  88  21  16  13]\n",
      " [ 69  23  52 444 124  74 116  38  33  27]\n",
      " [ 37   3  39  26 755  10  83  39   3   5]\n",
      " [ 56   4  38 174  86 486  54  67  20  15]\n",
      " [ 27   6  22  22  32   9 869   1  10   2]\n",
      " [ 35   5  10  29 126  24  11 737   3  20]\n",
      " [ 92  36   4   3   9   2   5   1 826  22]\n",
      " [ 41  91   4   5  10   2  12   6  13 816]]\n"
     ]
    },
    {
     "data": {
      "image/png": "[encoded data removed]",
      "text/plain": [
       "<Figure size 432x288 with 2 Axes>"
      ]
     },
     "metadata": {
      "needs_background": "light"
     },
     "output_type": "display_data"
    }
   ],
   "source": [
    "!pip install scikit-learn\n",
    "from sklearn.metrics import confusion_matrix\n",
    "import itertools\n",
    "\n",
    "def plot_confusion_matrix(cm, classes, normalize=False,title=\"confusion_matrix\",cmap=plt.cm.Blues):\n",
    "    \n",
    "    if normalize:\n",
    "        cm = cm.astype('float')/cm.sum(axis=1)[:,np.newaxis]\n",
    "        print(\"normalized confusion matrix\")\n",
    "    else:\n",
    "        print(\"confusion matrix without normalization\")\n",
    "        \n",
    "    print(cm)\n",
    "    plt.imshow(cm, interpolation = 'nearest', cmap=cmap)\n",
    "    plt.title(title)\n",
    "    plt.colorbar()\n",
    "    tick_marks = np.arange(len(classes))\n",
    "    plt.xticks(tick_marks, classes)\n",
    "    plt.yticks(tick_marks, classes)\n",
    "    \n",
    "    fmt = '.2f' if normalize else 'd'\n",
    "    threshold = cm.max()/2.\n",
    "    for i,j in itertools.product(range(cm.shape[0]),range(cm.shape[1])):\n",
    "        plt.text(j,i,format(cm[i,j],fmt),\n",
    "                 horizontalalignment= \"center\",\n",
    "                 color=\"white\" if cm[i,j]> threshold else \"black\"\n",
    "                )\n",
    "        \n",
    "    plt.tight_layout()\n",
    "    plt.ylabel('True label')\n",
    "    plt.xlabel('predicted label')\n",
    "    plt.show()\n",
    "        \n",
    "p_test = model. predict(cifar_test_data).argmax(axis=1)\n",
    "cm = confusion_matrix(cifar_test_labels,p_test)\n",
    "plot_confusion_matrix(cm, list(range(10)))"
   ]
  },
  {
   "cell_type": "code",
   "execution_count": null,
   "metadata": {},
   "outputs": [],
   "source": []
  }
 ],
 "metadata": {
  "kernelspec": {
   "display_name": "Python 3",
   "language": "python",
   "name": "python3"
  },
  "language_info": {
   "codemirror_mode": {
    "name": "ipython",
    "version": 3
   },
   "file_extension": ".py",
   "mimetype": "text/x-python",
   "name": "python",
   "nbconvert_exporter": "python",
   "pygments_lexer": "ipython3",
   "version": "3.6.9"
  }
 },
 "nbformat": 4,
 "nbformat_minor": 2
}
